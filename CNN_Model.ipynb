{
  "nbformat": 4,
  "nbformat_minor": 0,
  "metadata": {
    "colab": {
      "name": "final_cifar.ipynb",
      "provenance": [],
      "collapsed_sections": [],
      "machine_shape": "hm"
    },
    "kernelspec": {
      "name": "python3",
      "display_name": "Python 3"
    }
  },
  "cells": [
    {
      "cell_type": "code",
      "metadata": {
        "id": "y7gwgbBR44ho",
        "colab_type": "code",
        "outputId": "168e9923-7b21-4fea-b9de-0ac7b2494c71",
        "colab": {
          "base_uri": "https://localhost:8080/",
          "height": 34
        }
      },
      "source": [
        "#downloading the dataset\n",
        "import matplotlib.pyplot as plt \n",
        "import numpy as np\n",
        "import chainer\n",
        " \n",
        "\n",
        "#basedir = './src/cnn/images'\n",
        "l = [4,30,55,72,1,95,32,57,73,91]\n",
        "l.sort()\n",
        "l"
      ],
      "execution_count": 0,
      "outputs": [
        {
          "output_type": "execute_result",
          "data": {
            "text/plain": [
              "[1, 4, 30, 32, 55, 57, 72, 73, 91, 95]"
            ]
          },
          "metadata": {
            "tags": []
          },
          "execution_count": 1
        }
      ]
    },
    {
      "cell_type": "code",
      "metadata": {
        "id": "HNl2jvUo-Tqd",
        "colab_type": "code",
        "outputId": "e1302c55-24ad-4d9f-991f-65ae1da91c5b",
        "colab": {
          "base_uri": "https://localhost:8080/",
          "height": 34
        }
      },
      "source": [
        "#List of required image classes\n",
        "CIFAR100_LABELS_LIST = {1:'aquarium fish', 4:'beaver', 30:'dolphin',\n",
        "                        32:'flatfish', 55:'otter', 72:'seal', 95:'whale', \n",
        "                        57:'ray', 73:'shark', 91:'trout'}\n",
        "          \n",
        "\n",
        "\n",
        "#loading the dataest\n",
        "train_cifar100, test_cifar100 = chainer.datasets.get_cifar100()\n",
        "no_classes = 100"
      ],
      "execution_count": 0,
      "outputs": [
        {
          "output_type": "stream",
          "text": [
            "Downloading from https://www.cs.toronto.edu/~kriz/cifar-100-python.tar.gz...\n"
          ],
          "name": "stderr"
        }
      ]
    },
    {
      "cell_type": "code",
      "metadata": {
        "id": "qyec01IB-UQb",
        "colab_type": "code",
        "colab": {}
      },
      "source": [
        "#re indexing\n",
        "CIFAR100_LABELS_LIST = {1:'aquarium_fish', 4:'beaver',30: 'dolphin', \n",
        "                        32:'flatfish', 55:'otter', 57:'ray', 72:'seal',\n",
        "                        73:'shark', 91:'trout', 95:'whale'}\n",
        "\n",
        "\n",
        "#Selecting only required images from the loaded data set\n",
        "train = []\n",
        "test = []\n",
        "for i in train_cifar100:\n",
        "        #  i-th image data with size 32x32 and lable\n",
        "        image, label_index = i\n",
        "        image = image.transpose(1,2,0)\n",
        "        image = np.resize(image,(64,64,3))\n",
        "        if l.count(label_index)>0:\n",
        "          y = (image, l.index(label_index))\n",
        "          train.append(y)\n",
        "for i in test_cifar100:\n",
        "        #  i-th image data with size 32x32 and lable\n",
        "        image, label_index = i\n",
        "        image = image.transpose(1,2,0)\n",
        "        image = np.resize(image,(64,64,3))\n",
        "        if l.count(label_index)>0:\n",
        "          y = (image, l.index(label_index))\n",
        "          test.append(y)\n",
        "    "
      ],
      "execution_count": 0,
      "outputs": []
    },
    {
      "cell_type": "code",
      "metadata": {
        "id": "d5T_5SsP--eB",
        "colab_type": "code",
        "colab": {}
      },
      "source": [
        "#Converting train into x and y train\n",
        "X = []\n",
        "Y = []\n",
        "for i in train:\n",
        "  X.append(i[0])\n",
        "  y = np.array([i[1]])\n",
        "  Y.append(y)\n",
        "x_train = np.array(X)\n",
        "y_train = np.array(Y)"
      ],
      "execution_count": 0,
      "outputs": []
    },
    {
      "cell_type": "code",
      "metadata": {
        "id": "2wwb832z_Ery",
        "colab_type": "code",
        "colab": {}
      },
      "source": [
        "#uint8\n",
        "#Converting train into x and y test\n",
        "X = []\n",
        "Y = []\n",
        "for i in test:\n",
        "  X.append(i[0])\n",
        "  y = np.array([i[1]])\n",
        "  Y.append(y)\n",
        "x_test = np.array(X)\n",
        "y_test = np.array(Y)"
      ],
      "execution_count": 0,
      "outputs": []
    },
    {
      "cell_type": "code",
      "metadata": {
        "id": "aBbldelf0K6R",
        "colab_type": "code",
        "outputId": "49b6d9c7-0244-46d3-b1a2-cd9ba85e1271",
        "colab": {
          "base_uri": "https://localhost:8080/",
          "height": 84
        }
      },
      "source": [
        "print(x_test.shape,x_train.shape)\n",
        "print(y_train.shape,y_test.shape)\n",
        "print(len(y_train))\n",
        "print(len(y_test))"
      ],
      "execution_count": 0,
      "outputs": [
        {
          "output_type": "stream",
          "text": [
            "(1000, 64, 64, 3) (5000, 64, 64, 3)\n",
            "(5000, 1) (1000, 1)\n",
            "5000\n",
            "1000\n"
          ],
          "name": "stdout"
        }
      ]
    },
    {
      "cell_type": "code",
      "metadata": {
        "id": "EXOc9cWFSqF6",
        "colab_type": "code",
        "outputId": "44fd5690-ba4b-4888-aaa4-6738442dc779",
        "colab": {
          "base_uri": "https://localhost:8080/",
          "height": 34
        }
      },
      "source": [
        "import keras\n",
        "from keras.datasets import cifar10\n",
        "from keras.preprocessing.image import ImageDataGenerator\n",
        "from keras.models import Sequential\n",
        "from keras.layers import Dense, Dropout, Activation, Flatten, BatchNormalization\n",
        "from keras.layers import Conv2D, MaxPooling2D\n",
        "from keras.losses import categorical_crossentropy\n",
        "import matplotlib.pyplot as plt"
      ],
      "execution_count": 0,
      "outputs": [
        {
          "output_type": "stream",
          "text": [
            "Using TensorFlow backend.\n"
          ],
          "name": "stderr"
        }
      ]
    },
    {
      "cell_type": "code",
      "metadata": {
        "id": "Pst9oH7NPWsC",
        "colab_type": "code",
        "colab": {}
      },
      "source": [
        "# Model configuration\n",
        "batch_size = 128\n",
        "no_classes = 10\n",
        "img_width, img_height, img_num_channels = 64, 64, 3\n",
        "loss_function = categorical_crossentropy\n",
        "data_augmentation = True\n",
        "no_epochs = 100\n",
        "optimizer = keras.optimizers.RMSprop(lr=0.0001, decay=1e-6) #, momentum=0.9, nesterov=True\n",
        "validation_split = 0.2\n",
        "verbosity = 1"
      ],
      "execution_count": 0,
      "outputs": []
    },
    {
      "cell_type": "code",
      "metadata": {
        "id": "foitCF6VRSe8",
        "colab_type": "code",
        "colab": {}
      },
      "source": [
        "# Determine shape of the data\n",
        "input_shape = (img_width, img_height, img_num_channels)"
      ],
      "execution_count": 0,
      "outputs": []
    },
    {
      "cell_type": "code",
      "metadata": {
        "id": "cvM59sN6RVvq",
        "colab_type": "code",
        "colab": {}
      },
      "source": [
        "# Parse numbers as floats\n",
        "x_train = x_train.astype('float32')  \n",
        "x_test = x_test.astype('float32')"
      ],
      "execution_count": 0,
      "outputs": []
    },
    {
      "cell_type": "code",
      "metadata": {
        "id": "ohgeCbZjRYie",
        "colab_type": "code",
        "colab": {}
      },
      "source": [
        "# Normalize data\n",
        "x_train = x_train / 255\n",
        "x_test = x_test / 255"
      ],
      "execution_count": 0,
      "outputs": []
    },
    {
      "cell_type": "code",
      "metadata": {
        "id": "Q4-L8-rBdW58",
        "colab_type": "code",
        "outputId": "bb923f6b-2e45-4464-c83e-7d39df4ed4f7",
        "colab": {
          "base_uri": "https://localhost:8080/",
          "height": 34
        }
      },
      "source": [
        "# convert class labels to binary class labels\n",
        "y_train = keras.utils.to_categorical(y_train, no_classes)\n",
        "y_test = keras.utils.to_categorical(y_test, no_classes)\n",
        "print(y_train.shape, y_test.shape)"
      ],
      "execution_count": 0,
      "outputs": [
        {
          "output_type": "stream",
          "text": [
            "(5000, 10) (1000, 10)\n"
          ],
          "name": "stdout"
        }
      ]
    },
    {
      "cell_type": "code",
      "metadata": {
        "id": "dHXK1j_uRabR",
        "colab_type": "code",
        "outputId": "0602603f-9566-4c72-81c3-78f27ebcd062",
        "colab": {
          "base_uri": "https://localhost:8080/",
          "height": 622
        }
      },
      "source": [
        "# Create the model\n",
        "model = Sequential()\n",
        "\n",
        "model.add(Conv2D(48, (3, 3), strides=(1, 1), input_shape=input_shape)) #layer1\n",
        "model.add(Activation(\"relu\"))\n",
        "model.add(MaxPooling2D((3, 3)))\n",
        "\n",
        "# CONV -> RELU -> BN -> Flatten\n",
        "model.add(Conv2D(96, (3, 3), strides=(1, 1)))   #layer2\n",
        "model.add(Activation(\"relu\"))\n",
        "model.add(MaxPooling2D((2, 2)))\n",
        "\n",
        "model.add(Conv2D(192, (3, 3), strides=(1, 1)))    #layer3\n",
        "model.add(Activation(\"relu\"))\n",
        "model.add(MaxPooling2D((2, 2)))\n",
        "\n",
        "model.add(Conv2D(256, (3, 3), strides=(1, 1)))   #layer4\n",
        "model.add(Activation(\"relu\"))\n",
        "\n",
        "model.add(BatchNormalization(axis=3))   \n",
        "model.add(Flatten())\n",
        "# Softmax\n",
        "model.add(Dense(10, activation=\"softmax\"))     #FC\n",
        "model.summary()"
      ],
      "execution_count": 0,
      "outputs": [
        {
          "output_type": "stream",
          "text": [
            "Model: \"sequential_2\"\n",
            "_________________________________________________________________\n",
            "Layer (type)                 Output Shape              Param #   \n",
            "=================================================================\n",
            "conv2d_5 (Conv2D)            (None, 62, 62, 48)        1344      \n",
            "_________________________________________________________________\n",
            "activation_5 (Activation)    (None, 62, 62, 48)        0         \n",
            "_________________________________________________________________\n",
            "max_pooling2d_4 (MaxPooling2 (None, 20, 20, 48)        0         \n",
            "_________________________________________________________________\n",
            "conv2d_6 (Conv2D)            (None, 18, 18, 96)        41568     \n",
            "_________________________________________________________________\n",
            "activation_6 (Activation)    (None, 18, 18, 96)        0         \n",
            "_________________________________________________________________\n",
            "max_pooling2d_5 (MaxPooling2 (None, 9, 9, 96)          0         \n",
            "_________________________________________________________________\n",
            "conv2d_7 (Conv2D)            (None, 7, 7, 192)         166080    \n",
            "_________________________________________________________________\n",
            "activation_7 (Activation)    (None, 7, 7, 192)         0         \n",
            "_________________________________________________________________\n",
            "max_pooling2d_6 (MaxPooling2 (None, 3, 3, 192)         0         \n",
            "_________________________________________________________________\n",
            "conv2d_8 (Conv2D)            (None, 1, 1, 256)         442624    \n",
            "_________________________________________________________________\n",
            "activation_8 (Activation)    (None, 1, 1, 256)         0         \n",
            "_________________________________________________________________\n",
            "batch_normalization_2 (Batch (None, 1, 1, 256)         1024      \n",
            "_________________________________________________________________\n",
            "flatten_2 (Flatten)          (None, 256)               0         \n",
            "_________________________________________________________________\n",
            "dense_2 (Dense)              (None, 10)                2570      \n",
            "=================================================================\n",
            "Total params: 655,210\n",
            "Trainable params: 654,698\n",
            "Non-trainable params: 512\n",
            "_________________________________________________________________\n"
          ],
          "name": "stdout"
        }
      ]
    },
    {
      "cell_type": "code",
      "metadata": {
        "id": "udIKSF-xRdI2",
        "colab_type": "code",
        "colab": {}
      },
      "source": [
        "# Compile the model\n",
        "model.compile(loss=loss_function,\n",
        "              optimizer=optimizer,\n",
        "              metrics=['accuracy'])\n"
      ],
      "execution_count": 0,
      "outputs": []
    },
    {
      "cell_type": "code",
      "metadata": {
        "id": "7sG5ybxhOWjl",
        "colab_type": "code",
        "outputId": "95b96372-8d33-4d34-9e87-4b7690fb199c",
        "colab": {
          "base_uri": "https://localhost:8080/",
          "height": 1000
        }
      },
      "source": [
        "if not data_augmentation:\n",
        "    print('Not using data augmentation.')\n",
        "    history = model.fit(x_train, y_train,\n",
        "            batch_size = batch_size,\n",
        "            epochs = no_epochs,\n",
        "            verbose = verbosity,\n",
        "            validation_split = validation_split,\n",
        "            shuffle = True)\n",
        "else:\n",
        "    print('Using real-time data augmentation.')\n",
        "    # This will do preprocessing and realtime data augmentation:\n",
        "    datagen = ImageDataGenerator(\n",
        "        featurewise_center=False,  # set input mean to 0 over the dataset\n",
        "        samplewise_center=False,  # set each sample mean to 0\n",
        "        featurewise_std_normalization=False,  # divide inputs by std of the dataset\n",
        "        samplewise_std_normalization=False,  # divide each input by its std\n",
        "        zca_whitening=False,  # apply ZCA whitening\n",
        "        zca_epsilon=1e-06,  # epsilon for ZCA whitening\n",
        "        rotation_range=0,  # randomly rotate images in the range (degrees, 0 to 180)\n",
        "        # randomly shift images horizontally (fraction of total width)\n",
        "        width_shift_range=0.1,\n",
        "        # randomly shift images vertically (fraction of total height)\n",
        "        height_shift_range=0.1,\n",
        "        shear_range=0.,  # set range for random shear\n",
        "        zoom_range=0.,  # set range for random zoom\n",
        "        channel_shift_range=0.,  # set range for random channel shifts\n",
        "        # set mode for filling points outside the input boundaries\n",
        "        fill_mode='nearest',\n",
        "        cval=0.,  # value used for fill_mode = \"constant\"\n",
        "        horizontal_flip=True,  # randomly flip images\n",
        "        vertical_flip=False,  # randomly flip images\n",
        "        # set rescaling factor (applied before any other transformation)\n",
        "        rescale=None,\n",
        "        # set function that will be applied on each input\n",
        "        preprocessing_function=None,\n",
        "        # image data format, either \"channels_first\" or \"channels_last\"\n",
        "        data_format=None)\n",
        "    datagen.fit(x_train)\n",
        "\n",
        "    history = model.fit(x_train, y_train,\n",
        "            batch_size = batch_size,\n",
        "            epochs = no_epochs,\n",
        "            verbose = verbosity,\n",
        "            validation_split = validation_split,\n",
        "            shuffle = True)\n",
        "\n"
      ],
      "execution_count": 0,
      "outputs": [
        {
          "output_type": "stream",
          "text": [
            "Using real-time data augmentation.\n",
            "Train on 4000 samples, validate on 1000 samples\n",
            "Epoch 1/100\n",
            "4000/4000 [==============================] - 15s 4ms/step - loss: 2.2503 - accuracy: 0.2155 - val_loss: 2.2993 - val_accuracy: 0.1000\n",
            "Epoch 2/100\n",
            "4000/4000 [==============================] - 15s 4ms/step - loss: 2.0581 - accuracy: 0.2100 - val_loss: 2.2811 - val_accuracy: 0.1580\n",
            "Epoch 3/100\n",
            "4000/4000 [==============================] - 15s 4ms/step - loss: 1.9396 - accuracy: 0.2430 - val_loss: 2.2658 - val_accuracy: 0.1710\n",
            "Epoch 4/100\n",
            "4000/4000 [==============================] - 15s 4ms/step - loss: 1.8921 - accuracy: 0.2785 - val_loss: 2.2514 - val_accuracy: 0.1400\n",
            "Epoch 5/100\n",
            "4000/4000 [==============================] - 15s 4ms/step - loss: 1.8646 - accuracy: 0.2962 - val_loss: 2.3055 - val_accuracy: 0.1080\n",
            "Epoch 6/100\n",
            "4000/4000 [==============================] - 15s 4ms/step - loss: 1.8531 - accuracy: 0.3095 - val_loss: 2.2206 - val_accuracy: 0.1350\n",
            "Epoch 7/100\n",
            "4000/4000 [==============================] - 15s 4ms/step - loss: 1.8282 - accuracy: 0.3250 - val_loss: 2.2203 - val_accuracy: 0.2020\n",
            "Epoch 8/100\n",
            "4000/4000 [==============================] - 15s 4ms/step - loss: 1.8077 - accuracy: 0.3332 - val_loss: 2.1799 - val_accuracy: 0.2180\n",
            "Epoch 9/100\n",
            "4000/4000 [==============================] - 18s 5ms/step - loss: 1.7883 - accuracy: 0.3402 - val_loss: 2.1687 - val_accuracy: 0.2280\n",
            "Epoch 10/100\n",
            "4000/4000 [==============================] - 15s 4ms/step - loss: 1.7692 - accuracy: 0.3562 - val_loss: 2.1714 - val_accuracy: 0.1830\n",
            "Epoch 11/100\n",
            "4000/4000 [==============================] - 15s 4ms/step - loss: 1.7494 - accuracy: 0.3690 - val_loss: 2.1400 - val_accuracy: 0.2010\n",
            "Epoch 12/100\n",
            "4000/4000 [==============================] - 15s 4ms/step - loss: 1.7277 - accuracy: 0.3668 - val_loss: 2.1517 - val_accuracy: 0.1980\n",
            "Epoch 13/100\n",
            "4000/4000 [==============================] - 15s 4ms/step - loss: 1.7058 - accuracy: 0.3742 - val_loss: 2.1132 - val_accuracy: 0.2240\n",
            "Epoch 14/100\n",
            "4000/4000 [==============================] - 15s 4ms/step - loss: 1.6850 - accuracy: 0.3760 - val_loss: 2.0048 - val_accuracy: 0.2610\n",
            "Epoch 15/100\n",
            "4000/4000 [==============================] - 15s 4ms/step - loss: 1.6783 - accuracy: 0.3832 - val_loss: 1.9855 - val_accuracy: 0.2490\n",
            "Epoch 16/100\n",
            "4000/4000 [==============================] - 15s 4ms/step - loss: 1.6671 - accuracy: 0.3825 - val_loss: 2.0941 - val_accuracy: 0.2210\n",
            "Epoch 17/100\n",
            "4000/4000 [==============================] - 15s 4ms/step - loss: 1.6527 - accuracy: 0.3898 - val_loss: 1.9401 - val_accuracy: 0.2690\n",
            "Epoch 18/100\n",
            "4000/4000 [==============================] - 15s 4ms/step - loss: 1.6352 - accuracy: 0.3983 - val_loss: 1.8446 - val_accuracy: 0.3290\n",
            "Epoch 19/100\n",
            "4000/4000 [==============================] - 15s 4ms/step - loss: 1.6304 - accuracy: 0.3990 - val_loss: 2.2043 - val_accuracy: 0.2080\n",
            "Epoch 20/100\n",
            "4000/4000 [==============================] - 15s 4ms/step - loss: 1.6200 - accuracy: 0.3935 - val_loss: 1.9015 - val_accuracy: 0.2960\n",
            "Epoch 21/100\n",
            "4000/4000 [==============================] - 15s 4ms/step - loss: 1.6153 - accuracy: 0.3968 - val_loss: 2.0375 - val_accuracy: 0.2670\n",
            "Epoch 22/100\n",
            "4000/4000 [==============================] - 15s 4ms/step - loss: 1.6087 - accuracy: 0.4030 - val_loss: 2.3373 - val_accuracy: 0.2170\n",
            "Epoch 23/100\n",
            "4000/4000 [==============================] - 15s 4ms/step - loss: 1.5976 - accuracy: 0.4110 - val_loss: 2.2773 - val_accuracy: 0.2480\n",
            "Epoch 24/100\n",
            "4000/4000 [==============================] - 15s 4ms/step - loss: 1.5897 - accuracy: 0.4103 - val_loss: 1.9875 - val_accuracy: 0.3050\n",
            "Epoch 25/100\n",
            "4000/4000 [==============================] - 15s 4ms/step - loss: 1.5857 - accuracy: 0.4117 - val_loss: 1.7208 - val_accuracy: 0.3850\n",
            "Epoch 26/100\n",
            "4000/4000 [==============================] - 15s 4ms/step - loss: 1.5733 - accuracy: 0.4220 - val_loss: 1.7378 - val_accuracy: 0.3680\n",
            "Epoch 27/100\n",
            "4000/4000 [==============================] - 15s 4ms/step - loss: 1.5671 - accuracy: 0.4193 - val_loss: 2.2712 - val_accuracy: 0.2540\n",
            "Epoch 28/100\n",
            "4000/4000 [==============================] - 15s 4ms/step - loss: 1.5538 - accuracy: 0.4250 - val_loss: 1.7378 - val_accuracy: 0.3650\n",
            "Epoch 29/100\n",
            "4000/4000 [==============================] - 15s 4ms/step - loss: 1.5465 - accuracy: 0.4280 - val_loss: 2.2975 - val_accuracy: 0.2630\n",
            "Epoch 30/100\n",
            "4000/4000 [==============================] - 15s 4ms/step - loss: 1.5382 - accuracy: 0.4338 - val_loss: 1.6485 - val_accuracy: 0.3880\n",
            "Epoch 31/100\n",
            "4000/4000 [==============================] - 15s 4ms/step - loss: 1.5383 - accuracy: 0.4345 - val_loss: 1.8316 - val_accuracy: 0.3460\n",
            "Epoch 32/100\n",
            "4000/4000 [==============================] - 15s 4ms/step - loss: 1.5283 - accuracy: 0.4430 - val_loss: 1.8955 - val_accuracy: 0.3260\n",
            "Epoch 33/100\n",
            "4000/4000 [==============================] - 15s 4ms/step - loss: 1.5179 - accuracy: 0.4430 - val_loss: 1.7178 - val_accuracy: 0.3690\n",
            "Epoch 34/100\n",
            "4000/4000 [==============================] - 15s 4ms/step - loss: 1.5082 - accuracy: 0.4417 - val_loss: 2.5039 - val_accuracy: 0.2490\n",
            "Epoch 35/100\n",
            "4000/4000 [==============================] - 15s 4ms/step - loss: 1.4984 - accuracy: 0.4500 - val_loss: 1.6342 - val_accuracy: 0.3900\n",
            "Epoch 36/100\n",
            "4000/4000 [==============================] - 15s 4ms/step - loss: 1.4931 - accuracy: 0.4465 - val_loss: 1.5967 - val_accuracy: 0.4000\n",
            "Epoch 37/100\n",
            "4000/4000 [==============================] - 15s 4ms/step - loss: 1.4859 - accuracy: 0.4535 - val_loss: 1.8084 - val_accuracy: 0.3700\n",
            "Epoch 38/100\n",
            "4000/4000 [==============================] - 15s 4ms/step - loss: 1.4783 - accuracy: 0.4588 - val_loss: 1.7559 - val_accuracy: 0.3820\n",
            "Epoch 39/100\n",
            "4000/4000 [==============================] - 15s 4ms/step - loss: 1.4774 - accuracy: 0.4560 - val_loss: 1.5874 - val_accuracy: 0.4120\n",
            "Epoch 40/100\n",
            "4000/4000 [==============================] - 15s 4ms/step - loss: 1.4687 - accuracy: 0.4600 - val_loss: 1.7600 - val_accuracy: 0.3690\n",
            "Epoch 41/100\n",
            "4000/4000 [==============================] - 15s 4ms/step - loss: 1.4553 - accuracy: 0.4697 - val_loss: 2.2511 - val_accuracy: 0.2870\n",
            "Epoch 42/100\n",
            "4000/4000 [==============================] - 15s 4ms/step - loss: 1.4566 - accuracy: 0.4733 - val_loss: 2.1744 - val_accuracy: 0.2950\n",
            "Epoch 43/100\n",
            "4000/4000 [==============================] - 15s 4ms/step - loss: 1.4519 - accuracy: 0.4665 - val_loss: 2.6014 - val_accuracy: 0.2300\n",
            "Epoch 44/100\n",
            "4000/4000 [==============================] - 15s 4ms/step - loss: 1.4458 - accuracy: 0.4760 - val_loss: 1.5771 - val_accuracy: 0.4160\n",
            "Epoch 45/100\n",
            "4000/4000 [==============================] - 15s 4ms/step - loss: 1.4368 - accuracy: 0.4812 - val_loss: 2.0252 - val_accuracy: 0.3280\n",
            "Epoch 46/100\n",
            "4000/4000 [==============================] - 15s 4ms/step - loss: 1.4332 - accuracy: 0.4837 - val_loss: 1.7330 - val_accuracy: 0.3910\n",
            "Epoch 47/100\n",
            "4000/4000 [==============================] - 15s 4ms/step - loss: 1.4285 - accuracy: 0.4840 - val_loss: 3.8785 - val_accuracy: 0.1740\n",
            "Epoch 48/100\n",
            "4000/4000 [==============================] - 15s 4ms/step - loss: 1.4260 - accuracy: 0.4823 - val_loss: 2.2155 - val_accuracy: 0.2870\n",
            "Epoch 49/100\n",
            "4000/4000 [==============================] - 15s 4ms/step - loss: 1.4126 - accuracy: 0.4897 - val_loss: 1.6902 - val_accuracy: 0.3970\n",
            "Epoch 50/100\n",
            "4000/4000 [==============================] - 15s 4ms/step - loss: 1.4140 - accuracy: 0.4935 - val_loss: 1.7047 - val_accuracy: 0.3870\n",
            "Epoch 51/100\n",
            "4000/4000 [==============================] - 15s 4ms/step - loss: 1.4067 - accuracy: 0.4860 - val_loss: 2.1953 - val_accuracy: 0.2980\n",
            "Epoch 52/100\n",
            "4000/4000 [==============================] - 15s 4ms/step - loss: 1.4060 - accuracy: 0.4900 - val_loss: 1.5274 - val_accuracy: 0.4520\n",
            "Epoch 53/100\n",
            "4000/4000 [==============================] - 15s 4ms/step - loss: 1.4021 - accuracy: 0.4910 - val_loss: 1.5334 - val_accuracy: 0.4360\n",
            "Epoch 54/100\n",
            "4000/4000 [==============================] - 15s 4ms/step - loss: 1.3863 - accuracy: 0.4857 - val_loss: 2.5068 - val_accuracy: 0.2840\n",
            "Epoch 55/100\n",
            "4000/4000 [==============================] - 15s 4ms/step - loss: 1.3913 - accuracy: 0.4913 - val_loss: 1.7819 - val_accuracy: 0.3760\n",
            "Epoch 56/100\n",
            "4000/4000 [==============================] - 15s 4ms/step - loss: 1.3788 - accuracy: 0.5000 - val_loss: 1.8610 - val_accuracy: 0.3700\n",
            "Epoch 57/100\n",
            "4000/4000 [==============================] - 15s 4ms/step - loss: 1.3748 - accuracy: 0.5033 - val_loss: 2.3337 - val_accuracy: 0.2780\n",
            "Epoch 58/100\n",
            "4000/4000 [==============================] - 15s 4ms/step - loss: 1.3767 - accuracy: 0.5002 - val_loss: 1.8320 - val_accuracy: 0.3730\n",
            "Epoch 59/100\n",
            "4000/4000 [==============================] - 15s 4ms/step - loss: 1.3727 - accuracy: 0.5085 - val_loss: 1.5499 - val_accuracy: 0.4320\n",
            "Epoch 60/100\n",
            "4000/4000 [==============================] - 15s 4ms/step - loss: 1.3707 - accuracy: 0.5025 - val_loss: 1.7040 - val_accuracy: 0.3870\n",
            "Epoch 61/100\n",
            "4000/4000 [==============================] - 15s 4ms/step - loss: 1.3603 - accuracy: 0.5128 - val_loss: 3.3589 - val_accuracy: 0.2300\n",
            "Epoch 62/100\n",
            "4000/4000 [==============================] - 15s 4ms/step - loss: 1.3544 - accuracy: 0.5058 - val_loss: 1.7812 - val_accuracy: 0.3620\n",
            "Epoch 63/100\n",
            "4000/4000 [==============================] - 15s 4ms/step - loss: 1.3465 - accuracy: 0.5063 - val_loss: 1.7767 - val_accuracy: 0.3830\n",
            "Epoch 64/100\n",
            "4000/4000 [==============================] - 15s 4ms/step - loss: 1.3508 - accuracy: 0.5088 - val_loss: 1.7996 - val_accuracy: 0.4000\n",
            "Epoch 65/100\n",
            "4000/4000 [==============================] - 15s 4ms/step - loss: 1.3361 - accuracy: 0.5167 - val_loss: 2.5437 - val_accuracy: 0.2740\n",
            "Epoch 66/100\n",
            "4000/4000 [==============================] - 15s 4ms/step - loss: 1.3378 - accuracy: 0.5178 - val_loss: 1.6721 - val_accuracy: 0.4160\n",
            "Epoch 67/100\n",
            "4000/4000 [==============================] - 15s 4ms/step - loss: 1.3366 - accuracy: 0.5167 - val_loss: 1.6375 - val_accuracy: 0.4180\n",
            "Epoch 68/100\n",
            "4000/4000 [==============================] - 15s 4ms/step - loss: 1.3320 - accuracy: 0.5135 - val_loss: 1.7032 - val_accuracy: 0.3950\n",
            "Epoch 69/100\n",
            "4000/4000 [==============================] - 15s 4ms/step - loss: 1.3213 - accuracy: 0.5165 - val_loss: 1.5774 - val_accuracy: 0.4230\n",
            "Epoch 70/100\n",
            "4000/4000 [==============================] - 15s 4ms/step - loss: 1.3223 - accuracy: 0.5235 - val_loss: 1.6342 - val_accuracy: 0.4230\n",
            "Epoch 71/100\n",
            "4000/4000 [==============================] - 15s 4ms/step - loss: 1.3188 - accuracy: 0.5280 - val_loss: 1.8413 - val_accuracy: 0.3560\n",
            "Epoch 72/100\n",
            "4000/4000 [==============================] - 15s 4ms/step - loss: 1.3106 - accuracy: 0.5247 - val_loss: 1.5378 - val_accuracy: 0.4260\n",
            "Epoch 73/100\n",
            "4000/4000 [==============================] - 15s 4ms/step - loss: 1.2987 - accuracy: 0.5290 - val_loss: 1.7442 - val_accuracy: 0.4120\n",
            "Epoch 74/100\n",
            "4000/4000 [==============================] - 15s 4ms/step - loss: 1.3030 - accuracy: 0.5330 - val_loss: 1.7289 - val_accuracy: 0.3950\n",
            "Epoch 75/100\n",
            "4000/4000 [==============================] - 15s 4ms/step - loss: 1.3061 - accuracy: 0.5282 - val_loss: 1.7096 - val_accuracy: 0.4060\n",
            "Epoch 76/100\n",
            "4000/4000 [==============================] - 15s 4ms/step - loss: 1.3002 - accuracy: 0.5343 - val_loss: 2.2102 - val_accuracy: 0.3350\n",
            "Epoch 77/100\n",
            "4000/4000 [==============================] - 15s 4ms/step - loss: 1.2943 - accuracy: 0.5282 - val_loss: 1.6468 - val_accuracy: 0.4210\n",
            "Epoch 78/100\n",
            "4000/4000 [==============================] - 15s 4ms/step - loss: 1.2804 - accuracy: 0.5390 - val_loss: 1.7877 - val_accuracy: 0.3910\n",
            "Epoch 79/100\n",
            "4000/4000 [==============================] - 15s 4ms/step - loss: 1.2843 - accuracy: 0.5393 - val_loss: 1.5885 - val_accuracy: 0.4280\n",
            "Epoch 80/100\n",
            "4000/4000 [==============================] - 15s 4ms/step - loss: 1.2736 - accuracy: 0.5375 - val_loss: 1.5214 - val_accuracy: 0.4530\n",
            "Epoch 81/100\n",
            "4000/4000 [==============================] - 15s 4ms/step - loss: 1.2640 - accuracy: 0.5378 - val_loss: 1.8193 - val_accuracy: 0.3670\n",
            "Epoch 82/100\n",
            "4000/4000 [==============================] - 15s 4ms/step - loss: 1.2728 - accuracy: 0.5360 - val_loss: 1.9157 - val_accuracy: 0.3500\n",
            "Epoch 83/100\n",
            "4000/4000 [==============================] - 15s 4ms/step - loss: 1.2647 - accuracy: 0.5433 - val_loss: 1.6981 - val_accuracy: 0.4360\n",
            "Epoch 84/100\n",
            "4000/4000 [==============================] - 15s 4ms/step - loss: 1.2587 - accuracy: 0.5450 - val_loss: 1.5347 - val_accuracy: 0.4680\n",
            "Epoch 85/100\n",
            "4000/4000 [==============================] - 15s 4ms/step - loss: 1.2511 - accuracy: 0.5437 - val_loss: 2.1326 - val_accuracy: 0.3740\n",
            "Epoch 86/100\n",
            "4000/4000 [==============================] - 15s 4ms/step - loss: 1.2501 - accuracy: 0.5440 - val_loss: 2.6809 - val_accuracy: 0.2940\n",
            "Epoch 87/100\n",
            "4000/4000 [==============================] - 15s 4ms/step - loss: 1.2468 - accuracy: 0.5510 - val_loss: 1.9749 - val_accuracy: 0.3650\n",
            "Epoch 88/100\n",
            "4000/4000 [==============================] - 15s 4ms/step - loss: 1.2421 - accuracy: 0.5520 - val_loss: 2.1961 - val_accuracy: 0.3270\n",
            "Epoch 89/100\n",
            "4000/4000 [==============================] - 15s 4ms/step - loss: 1.2332 - accuracy: 0.5537 - val_loss: 1.6575 - val_accuracy: 0.4330\n",
            "Epoch 90/100\n",
            "4000/4000 [==============================] - 15s 4ms/step - loss: 1.2283 - accuracy: 0.5545 - val_loss: 1.6144 - val_accuracy: 0.4560\n",
            "Epoch 91/100\n",
            "4000/4000 [==============================] - 15s 4ms/step - loss: 1.2235 - accuracy: 0.5645 - val_loss: 2.4638 - val_accuracy: 0.3180\n",
            "Epoch 92/100\n",
            "4000/4000 [==============================] - 15s 4ms/step - loss: 1.2263 - accuracy: 0.5615 - val_loss: 1.4972 - val_accuracy: 0.4630\n",
            "Epoch 93/100\n",
            "4000/4000 [==============================] - 15s 4ms/step - loss: 1.2090 - accuracy: 0.5675 - val_loss: 1.5610 - val_accuracy: 0.4520\n",
            "Epoch 94/100\n",
            "4000/4000 [==============================] - 15s 4ms/step - loss: 1.2094 - accuracy: 0.5710 - val_loss: 1.9667 - val_accuracy: 0.3600\n",
            "Epoch 95/100\n",
            "4000/4000 [==============================] - 15s 4ms/step - loss: 1.2074 - accuracy: 0.5695 - val_loss: 1.4540 - val_accuracy: 0.4850\n",
            "Epoch 96/100\n",
            "4000/4000 [==============================] - 15s 4ms/step - loss: 1.1957 - accuracy: 0.5767 - val_loss: 2.0392 - val_accuracy: 0.3680\n",
            "Epoch 97/100\n",
            "4000/4000 [==============================] - 15s 4ms/step - loss: 1.1986 - accuracy: 0.5652 - val_loss: 1.6656 - val_accuracy: 0.4160\n",
            "Epoch 98/100\n",
            "4000/4000 [==============================] - 15s 4ms/step - loss: 1.1965 - accuracy: 0.5688 - val_loss: 2.3248 - val_accuracy: 0.3070\n",
            "Epoch 99/100\n",
            "4000/4000 [==============================] - 15s 4ms/step - loss: 1.1927 - accuracy: 0.5680 - val_loss: 2.0069 - val_accuracy: 0.3760\n",
            "Epoch 100/100\n",
            "4000/4000 [==============================] - 15s 4ms/step - loss: 1.1802 - accuracy: 0.5807 - val_loss: 2.2873 - val_accuracy: 0.3210\n"
          ],
          "name": "stdout"
        }
      ]
    },
    {
      "cell_type": "code",
      "metadata": {
        "id": "zzI8PmTzRiCv",
        "colab_type": "code",
        "outputId": "d5bc0693-2405-455f-bbdc-7626988f4970",
        "colab": {
          "base_uri": "https://localhost:8080/",
          "height": 50
        }
      },
      "source": [
        " #Model evaluation\n",
        "score = model.evaluate(x_test, y_test, verbose=1)\n",
        "print(f'Test loss: {score[0]} / Test accuracy: {score[1]}')                          #0.5210000276565552/32"
      ],
      "execution_count": 0,
      "outputs": [
        {
          "output_type": "stream",
          "text": [
            "1000/1000 [==============================] - 1s 1ms/step\n",
            "Test loss: 2.186648036956787 / Test accuracy: 0.3440000116825104\n"
          ],
          "name": "stdout"
        }
      ]
    },
    {
      "cell_type": "code",
      "metadata": {
        "id": "xJLOhiViSdns",
        "colab_type": "code",
        "outputId": "5c339ee4-07a8-43f3-8703-9132d1fbf4c6",
        "colab": {
          "base_uri": "https://localhost:8080/",
          "height": 295
        }
      },
      "source": [
        "# Visualize history\n",
        "# Plot history: Loss\n",
        "plt.plot(history.history['loss'])\n",
        "plt.plot(history.history['val_loss'])\n",
        "plt.title('Validation loss vs loss history')\n",
        "plt.ylabel('Loss value')\n",
        "plt.xlabel('No. epoch')\n",
        "plt.legend(['train_loss', 'Val_loss'], loc='upper left')\n",
        "plt.show()\n"
      ],
      "execution_count": 0,
      "outputs": [
        {
          "output_type": "display_data",
          "data": {
            "image/png": "[encoded data removed]",
            "text/plain": [
              "<Figure size 432x288 with 1 Axes>"
            ]
          },
          "metadata": {
            "tags": [],
            "needs_background": "light"
          }
        }
      ]
    },
    {
      "cell_type": "code",
      "metadata": {
        "id": "YYzEgKx1SeRt",
        "colab_type": "code",
        "outputId": "b3f99057-491a-41da-a726-ea6c1915a337",
        "colab": {
          "base_uri": "https://localhost:8080/",
          "height": 312
        }
      },
      "source": [
        "# Plot history: Accuracy\n",
        "plt.plot(history.history['accuracy'])\n",
        "plt.plot(history.history['val_accuracy'])\n",
        "plt.title('Validation accuracy history')\n",
        "plt.ylabel('Accuracy value (%)')\n",
        "plt.xlabel('No. epoch')\n",
        "plt.legend(['train_acc', 'Val_acc'], loc='upper left')\n",
        "plt.show()\n",
        "print(sum(history.history['accuracy'])/len(history.history['accuracy']))"
      ],
      "execution_count": 0,
      "outputs": [
        {
          "output_type": "display_data",
          "data": {
            "image/png": "[encoded data removed]",
            "text/plain": [
              "<Figure size 432x288 with 1 Axes>"
            ]
          },
          "metadata": {
            "tags": [],
            "needs_background": "light"
          }
        },
        {
          "output_type": "stream",
          "text": [
            "0.4675999988615513\n"
          ],
          "name": "stdout"
        }
      ]
    },
    {
      "cell_type": "code",
      "metadata": {
        "id": "unCklfNWZ81F",
        "colab_type": "code",
        "colab": {}
      },
      "source": [
        ""
      ],
      "execution_count": 0,
      "outputs": []
    }
  ]
}